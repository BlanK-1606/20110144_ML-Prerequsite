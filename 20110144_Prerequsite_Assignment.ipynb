{
  "cells": [
    {
      "cell_type": "markdown",
      "metadata": {
        "id": "Nw_AMfj2QM5o"
      },
      "source": [
        "**Question 1**\n",
        "How many multiplications and additions do you need to perform a matrix multiplication between a (n, k) and (k, m) matrix? Explain.\n",
        "\n",
        "We have matrices of size (n, k) and (k, m).\n",
        "\n",
        "If we mutltiply matrix by row x column multiplication, the elements of resultant matrix can be calculated as:\n",
        "\n",
        "Each element of resultant will be obtained by k multiplications followed by addition of these k multiplications.\n",
        "Therefore, for each element of the resultant matrix, there will be k multiplications and k-1 additions.\n",
        "For each element we perform k multiplications and k−1 additions.\n",
        "There are n×m elements in the resulting matrix.\n",
        "\n",
        "Thus, the total number of multiplications will be **n*m*k**\n",
        "\n",
        "and the total number of additions will be **n*m*(k-1)**\n",
        "\n"
      ]
    },
    {
      "cell_type": "markdown",
      "metadata": {
        "id": "qlTjP3VynUf1"
      },
      "source": [
        "**Question 2**\n",
        "Write Python code to multiply the above two matrices. Solve using list of lists and then use numpy. Compare the timing of both solutions. Which one is faster? Why?"
      ]
    },
    {
      "cell_type": "code",
      "execution_count": 2,
      "metadata": {
        "colab": {
          "base_uri": "https://localhost:8080/"
        },
        "id": "5KlYR0jKnTxh",
        "outputId": "53c7f1dc-2e1d-4f64-bd26-08654a4d5acb"
      },
      "outputs": [],
      "source": [
        "# Matrix multiplication  using lists of lists\n",
        "\n",
        "def matrix_multiply_list_of_lists(A, B):\n",
        "    n = len(A)\n",
        "    k = len(A[0])\n",
        "    m = len(B[0])\n",
        "\n",
        "    # Initialize result matrix C with zeros\n",
        "    C = [[0 for _ in range(m)] for _ in range(n)]\n",
        "\n",
        "    # Perform matrix multiplication\n",
        "    for i in range(n):\n",
        "        for j in range(m):\n",
        "            for p in range(k):\n",
        "                C[i][j] += A[i][p] * B[p][j]\n",
        "\n",
        "    return C"
      ]
    },
    {
      "cell_type": "code",
      "execution_count": 3,
      "metadata": {},
      "outputs": [],
      "source": [
        "# Matrix multiplication using numpy\n",
        "\n",
        "import numpy as np\n",
        "\n",
        "def matrix_multiply_numpy(A, B):\n",
        "    return np.dot(A, B)\n"
      ]
    },
    {
      "cell_type": "code",
      "execution_count": 47,
      "metadata": {
        "colab": {
          "base_uri": "https://localhost:8080/"
        },
        "id": "R58KgDs4tyi9",
        "outputId": "6b1804e5-25f8-4255-d72c-09c5a7ad5861"
      },
      "outputs": [
        {
          "name": "stdout",
          "output_type": "stream",
          "text": [
            "Time taken using List of Lists: 0.827064037322998\n",
            "Time taken using NumPy: 0.0\n"
          ]
        }
      ],
      "source": [
        "import time\n",
        "\n",
        "# Example matrices\n",
        "A = np.random.randint(1,5,(256,128))\n",
        "B = np.random.randint(1,5,(128,64))\n",
        "# Timing for list of lists multiplication\n",
        "start_time = time.time()\n",
        "result_list_of_lists = matrix_multiply_list_of_lists(A, B)\n",
        "end_time = time.time()\n",
        "# print(\"List of Lists Result:\", result_list_of_lists)\n",
        "print(\"Time taken using List of Lists:\", end_time - start_time)\n",
        "\n",
        "# Timing for NumPy multiplication\n",
        "A_np = np.array(A)\n",
        "B_np = np.array(B)\n",
        "start_time = time.time()\n",
        "result_numpy = matrix_multiply_numpy(A_np, B_np)\n",
        "end_time = time.time()\n",
        "# print(\"NumPy Result:\", result_numpy)\n",
        "print(\"Time taken using NumPy:\", end_time - start_time)"
      ]
    },
    {
      "cell_type": "markdown",
      "metadata": {},
      "source": [
        "NumPy is generally faster for matrix operations due to its optimized and vectorized implementations.\n"
      ]
    },
    {
      "cell_type": "markdown",
      "metadata": {
        "id": "snebCWll2VBw"
      },
      "source": [
        "**Question 3**\n",
        "Finding the highest element in a list requires one pass of the array. Finding the second highest element requires 2 passes of the the array. Using this method, what is the time complexity of finding the median of the array? Can you suggest a better method? Can you implement both these methods in Python and compare against numpy.median routine in terms of time?\n",
        "\n",
        "Max element in an unsorted array can be found out in a single pass by simply comparing the values while iterating the array and continuously udpating the max value. The value present in the end the will be the max element.\n",
        "\n",
        "Similarly, the second highest element in an unsorted array can be found in two passes in which the first pass will give the max element in the array and the second pass will output the second max element."
      ]
    },
    {
      "cell_type": "code",
      "execution_count": 13,
      "metadata": {
        "colab": {
          "base_uri": "https://localhost:8080/"
        },
        "id": "WadkonMG2cu0",
        "outputId": "b7911b17-e626-479a-e791-680731041f92"
      },
      "outputs": [
        {
          "name": "stdout",
          "output_type": "stream",
          "text": [
            "Max element present in the array is: 9\n"
          ]
        }
      ],
      "source": [
        "# Finding max element of an unsorted array in one pass\n",
        "def find_max(arr):\n",
        "  max_ele = 0\n",
        "  for i in arr:\n",
        "    if(i > max_ele):\n",
        "      max_ele = i\n",
        "  return max_ele\n",
        "\n",
        "arr = [3,5,2,3,4,9,7,8,0,1]\n",
        "print(\"Max element present in the array is:\", find_max(arr))"
      ]
    },
    {
      "cell_type": "code",
      "execution_count": 14,
      "metadata": {
        "colab": {
          "base_uri": "https://localhost:8080/"
        },
        "id": "7Qq-C7seFxHm",
        "outputId": "90b5b344-02d9-4f7b-fd65-7784450abe3b"
      },
      "outputs": [
        {
          "name": "stdout",
          "output_type": "stream",
          "text": [
            "Second Max element present in the array is: 8\n"
          ]
        }
      ],
      "source": [
        "# Finding second max element of an unsorted array in two pass\n",
        "def find_sec_max(arr):\n",
        "  max_ele = 0\n",
        "  for i in arr:\n",
        "    if(i > max_ele):\n",
        "      max_ele = i\n",
        "  sec_max = 0\n",
        "  for i in arr:\n",
        "    if(i > sec_max and i < max_ele):\n",
        "      sec_max = i\n",
        "  return sec_max\n",
        "arr = [3,5,2,3,4,9,7,8,0,1]\n",
        "print(\"Second Max element present in the array is:\",find_sec_max(arr))"
      ]
    },
    {
      "cell_type": "markdown",
      "metadata": {
        "id": "KMtNH8N_G9b3"
      },
      "source": [
        "Now, if we try to find the median of the unsorted array in this way, time complexity would be $$ {O(n^2)} $$\n",
        "\n",
        "The better method would be to first sort the array and then find the median. The time complexity of this method would be $$ {O(nlog(n))} $$\n",
        "\n"
      ]
    },
    {
      "cell_type": "code",
      "execution_count": 20,
      "metadata": {
        "colab": {
          "base_uri": "https://localhost:8080/"
        },
        "id": "GysRbVNgNC24",
        "outputId": "9d9fad2f-80bb-4d3f-a817-97a9fa9d873b"
      },
      "outputs": [
        {
          "name": "stdout",
          "output_type": "stream",
          "text": [
            "5\n",
            "Time taken in order to calculate median after using sorting techninque: 6.499767303466797 ms\n"
          ]
        }
      ],
      "source": [
        "# Finding the median element using sort\n",
        "import time\n",
        "arr = [3,11,5,2,1,4,6,7,8]\n",
        "start = time.time()\n",
        "arr.sort()\n",
        "x = len(arr)\n",
        "if(x%2==1):\n",
        "  median_idx = (x + 1)//2 - 1\n",
        "  print(arr[median_idx])\n",
        "end = time.time()\n",
        "print(\"Time taken in order to calculate median after using sorting techninque:\",(end-start) * 10**3, \"ms\")"
      ]
    },
    {
      "cell_type": "code",
      "execution_count": 21,
      "metadata": {
        "colab": {
          "base_uri": "https://localhost:8080/"
        },
        "id": "VhzZ6EAXIH1x",
        "outputId": "268a9e15-dae3-4e9c-94be-1c305a61b332"
      },
      "outputs": [
        {
          "name": "stdout",
          "output_type": "stream",
          "text": [
            "5.0\n",
            "Time taken in order to calculate median using inbuilt function: 0.0 ms\n"
          ]
        }
      ],
      "source": [
        "# Finding the median element using numpy\n",
        "import time\n",
        "arr = [3,11,5,2,1,4,6,7,8]\n",
        "start = time.time()\n",
        "print(np.median(arr))\n",
        "end = time.time()\n",
        "\n",
        "print(\"Time taken in order to calculate median using inbuilt function:\",(end-start) * 10**3, \"ms\")"
      ]
    },
    {
      "cell_type": "markdown",
      "metadata": {
        "id": "RBhkB8kAwovp"
      },
      "source": [
        "**Question 4**"
      ]
    },
    {
      "cell_type": "markdown",
      "metadata": {
        "id": "KJP_4SPU3Vkq"
      },
      "source": [
        "Given $$ {f(x,y) = x^2y + y^3sin(x)} $$\n",
        "\n",
        "The gradient with respect to x will be \n",
        "\n",
        "$$ {2xy+y^3\\cos(x)} $$\n",
        "\n",
        "Similarly, the gradient with respect to y will be\n",
        "$$ {x^2+3y^2\\sin (x)} $$"
      ]
    },
    {
      "cell_type": "markdown",
      "metadata": {
        "id": "VVrMVVxzAAH7"
      },
      "source": [
        "**Question 5**"
      ]
    },
    {
      "cell_type": "code",
      "execution_count": 26,
      "metadata": {},
      "outputs": [
        {
          "name": "stdout",
          "output_type": "stream",
          "text": [
            "Analytical Gradient with respect to x: 0.7640352249145508\n",
            "JAX Gradient with respect to x: 0.7640352249145508\n",
            "Analytical Gradient with respect to y: 28.551029205322266\n",
            "JAX Gradient with respect to y: 28.551029205322266\n"
          ]
        }
      ],
      "source": [
        "import jax\n",
        "import jax.numpy as jnp\n",
        "\n",
        "# Define the function\n",
        "def my_function(x, y):\n",
        "    return x**2 * y + y**3 * jnp.sin(x)\n",
        "\n",
        "# Define the gradient function using JAX\n",
        "grad_my_function = jax.grad(my_function, argnums=(0, 1))\n",
        "\n",
        "# Test the gradient with random values\n",
        "random_x = 2.0\n",
        "random_y = 3.0\n",
        "\n",
        "gradient_x, gradient_y = grad_my_function(random_x, random_y)\n",
        "\n",
        "# Display results\n",
        "print(f\"Analytical Gradient with respect to x: {2 * random_x * random_y + random_y**3 * jnp.cos(random_x)}\")\n",
        "print(f\"JAX Gradient with respect to x: {gradient_x}\")\n",
        "\n",
        "print(f\"Analytical Gradient with respect to y: {random_x**2 + 3 * random_y**2 * jnp.sin(random_x)}\")\n",
        "print(f\"JAX Gradient with respect to y: {gradient_y}\")\n"
      ]
    },
    {
      "cell_type": "markdown",
      "metadata": {
        "id": "uECfByj88tJx"
      },
      "source": [
        "**Question 6**"
      ]
    },
    {
      "cell_type": "code",
      "execution_count": 27,
      "metadata": {
        "colab": {
          "base_uri": "https://localhost:8080/"
        },
        "id": "3Bzk8LAmxDNK",
        "outputId": "ed7b3085-3294-404d-98e2-ed32ac669312"
      },
      "outputs": [
        {
          "name": "stdout",
          "output_type": "stream",
          "text": [
            "Analytical Gradient with respect to x: 2*x*y + y**3*cos(x)\n",
            "Analytical Gradient with respect to y: x**2 + 3*y**2*sin(x)\n"
          ]
        }
      ],
      "source": [
        "import sympy as sp\n",
        "\n",
        "# Define symbolic variables\n",
        "x, y = sp.symbols('x y')\n",
        "\n",
        "# Define the function\n",
        "f = x**2 * y + y**3 * sp.sin(x)\n",
        "\n",
        "# Compute the gradient\n",
        "gradient_x = sp.diff(f, x)\n",
        "gradient_y = sp.diff(f, y)\n",
        "\n",
        "# Display the symbolic gradient expressions\n",
        "print(f\"Analytical Gradient with respect to x: {gradient_x}\")\n",
        "print(f\"Analytical Gradient with respect to y: {gradient_y}\")\n"
      ]
    },
    {
      "cell_type": "markdown",
      "metadata": {
        "id": "1zebcSwntTZt"
      },
      "source": [
        "**Question 7**"
      ]
    },
    {
      "cell_type": "code",
      "execution_count": 29,
      "metadata": {
        "colab": {
          "base_uri": "https://localhost:8080/"
        },
        "id": "sNMnb2zLtWV7",
        "outputId": "6821aef3-9373-47b2-e93f-1b743871ae11"
      },
      "outputs": [
        {
          "name": "stdout",
          "output_type": "stream",
          "text": [
            "{'2022': {'Branch 1': {'Roll NO': 1, 'Name': 'N', 'Marks': {'Maths': 100, 'English': 70}}, 'Branch 2': {'Roll NO': 1, 'Name': 'A', 'Marks': {'Maths': 90, 'English': 75}}}, '2023': {'Branch 1': {'Roll NO': 1, 'Name': 'B', 'Marks': {'Maths': 85, 'English': 85}}, 'Branch 2': {'Roll NO': 1, 'Name': 'C', 'Marks': {'Maths': 95, 'English': 75}}}, '2024': {'Branch 1': {'Roll NO': 2, 'Name': 'G', 'Marks': {'Maths': 65, 'English': 95}}, 'Branch 2': {'Roll NO': 1, 'Name': 'E', 'Marks': {'Maths': 90, 'English': 70}}}, '2025': {'Branch 1': None, 'Branch 2': None}}\n"
          ]
        }
      ],
      "source": [
        "Dict = {'2022': {'Branch 1':{'Roll NO':1,'Name':'N','Marks':{'Maths': 100,'English': 70}},\n",
        "                 'Branch 2':{'Roll NO':1,'Name':'A','Marks':{'Maths': 90,'English': 75}}},\n",
        "        '2023':{'Branch 1':{'Roll NO':1,'Name':'B','Marks':{'Maths': 85,'English': 85}},\n",
        "                 'Branch 2':{'Roll NO':1,'Name':'C','Marks':{'Maths': 95,'English': 75}}},\n",
        "        '2024':{'Branch 1':{'Roll NO':1,'Name':'D','Marks':{'Maths': 100,'English': 90},'Roll NO':2,'Name':'G','Marks':{'Maths': 65,'English': 95}},\n",
        "                 'Branch 2':{'Roll NO':1,'Name':'E','Marks':{'Maths': 90,'English': 70}}},\n",
        "        '2025':{'Branch 1':None,'Branch 2':None},}\n",
        "print(Dict)"
      ]
    },
    {
      "cell_type": "markdown",
      "metadata": {
        "id": "2xdIAyo5C5Zz"
      },
      "source": [
        "**Question 9**\n",
        "Using matplotlib plot the following functions on the domain: x = 0.5 to 100.0 in steps of 0.5.\n"
      ]
    },
    {
      "cell_type": "code",
      "execution_count": 48,
      "metadata": {
        "colab": {
          "base_uri": "https://localhost:8080/"
        },
        "id": "uaFpphy7tVxE",
        "outputId": "c5b7bda6-5144-47ee-81d8-b6bf71e761a5"
      },
      "outputs": [],
      "source": [
        "x = np.linspace(0.5,100,200)\n",
        "# print(x)"
      ]
    },
    {
      "cell_type": "code",
      "execution_count": 49,
      "metadata": {
        "colab": {
          "base_uri": "https://localhost:8080/",
          "height": 585
        },
        "id": "sVlTeMbZDr9I",
        "outputId": "72cf5825-e5ed-45bc-e280-af4912d33216"
      },
      "outputs": [
        {
          "data": {
            "image/png": "[encoded data removed]",
            "text/plain": [
              "<Figure size 1600x800 with 7 Axes>"
            ]
          },
          "metadata": {},
          "output_type": "display_data"
        }
      ],
      "source": [
        "import matplotlib.pyplot as plt\n",
        "plt.figure(figsize=(16, 8))\n",
        "\n",
        "y = x\n",
        "plt.subplot(2,4,1)\n",
        "plt.plot(x,y, 'blue')\n",
        "plt.ylabel(\"x\")\n",
        "\n",
        "y = x**2\n",
        "plt.subplot(2,4,2)\n",
        "plt.plot(x,y, 'blue')\n",
        "plt.ylabel(\"x^2\")\n",
        "\n",
        "y = (x**3)/100\n",
        "plt.subplot(2,4,3)\n",
        "plt.plot(x,y, 'blue')\n",
        "plt.ylabel(\"(x^3)/100\")\n",
        "\n",
        "y = np.sin(x)\n",
        "plt.subplot(2,4,4)\n",
        "plt.plot(x,y, 'blue')\n",
        "plt.ylabel(\"sin(x)\")\n",
        "\n",
        "y = np.sin(x)/x\n",
        "plt.subplot(2,4,5)\n",
        "plt.plot(x,y, 'blue')\n",
        "plt.ylabel(\"sin(x)/x\")\n",
        "\n",
        "y = np.log(x)\n",
        "plt.subplot(2,4,6)\n",
        "plt.plot(x,y, 'blue')\n",
        "plt.ylabel(\"log(x)\")\n",
        "\n",
        "y = np.exp(x)\n",
        "plt.subplot(2,4,7)\n",
        "plt.plot(x,y, 'blue')\n",
        "plt.ylabel(\"e^x\")\n",
        "\n",
        "plt.tight_layout()\n",
        "plt.show()"
      ]
    },
    {
      "cell_type": "markdown",
      "metadata": {
        "id": "LxNtxwSGK1dj"
      },
      "source": [
        "**Question 10**"
      ]
    },
    {
      "cell_type": "code",
      "execution_count": 44,
      "metadata": {},
      "outputs": [
        {
          "name": "stdout",
          "output_type": "stream",
          "text": [
            "DataFrame:\n",
            "           a         b         c         d         e\n",
            "0   1.069516  1.400413  1.997478  1.927886  1.725930\n",
            "1   1.944410  1.719137  1.179858  1.187821  1.679341\n",
            "2   1.417708  1.572264  1.081854  1.541451  1.063310\n",
            "3   1.516240  1.973696  1.228374  1.967646  1.769914\n",
            "4   1.798522  1.780910  1.684072  1.506681  1.941394\n",
            "5   1.304365  1.908563  1.007264  1.450775  1.253468\n",
            "6   1.125105  1.430534  1.186036  1.071037  1.573534\n",
            "7   1.770008  1.759854  1.693126  1.960251  1.740789\n",
            "8   1.968809  1.875291  1.293281  1.725603  1.231781\n",
            "9   1.580038  1.692817  1.936371  1.878931  1.717242\n",
            "10  1.337303  1.624432  1.617431  1.892192  1.447482\n",
            "11  1.667703  1.713482  1.022282  1.025128  1.379508\n",
            "12  1.419370  1.918488  1.487237  1.120065  1.405504\n",
            "13  1.993653  1.883215  1.142361  1.952746  1.935364\n",
            "14  1.089000  1.944142  1.290468  1.287907  1.640177\n",
            "15  1.136647  1.624845  1.748024  1.875752  1.513880\n",
            "16  1.929641  1.474887  1.238160  1.523612  1.731665\n",
            "17  1.711401  1.933193  1.700394  1.203398  1.896296\n",
            "18  1.566674  1.192389  1.190945  1.036014  1.528161\n",
            "19  1.192435  1.049107  1.472584  1.344237  1.364047\n",
            "\n",
            "Column with the highest standard deviation: d\n",
            "Row with the lowest mean: 6\n"
          ]
        }
      ],
      "source": [
        "import numpy as np\n",
        "import pandas as pd\n",
        "\n",
        "# Generating a 20x5 matrix with random numbers uniformly drawn from the range [1, 2]\n",
        "random_matrix = np.random.uniform(1, 2, size=(20, 5))\n",
        "\n",
        "# Create a dataframe with columns named \"a\", \"b\", \"c\", \"d\", \"e\"\n",
        "df = pd.DataFrame(random_matrix, columns=[\"a\", \"b\", \"c\", \"d\", \"e\"])\n",
        "\n",
        "# Find the column with the highest standard deviation\n",
        "max_std_column = df.std().idxmax()\n",
        "\n",
        "# Find the row with the lowest mean\n",
        "min_mean_row = df.mean(axis=1).idxmin()\n",
        "\n",
        "# Display the dataframe\n",
        "print(\"DataFrame:\")\n",
        "print(df)\n",
        "\n",
        "# Display results\n",
        "print(\"\\nColumn with the highest standard deviation:\", max_std_column)\n",
        "print(\"Row with the lowest mean:\", min_mean_row)\n"
      ]
    },
    {
      "cell_type": "markdown",
      "metadata": {
        "id": "wE1sKMXWX444"
      },
      "source": [
        "**Question 11**"
      ]
    },
    {
      "cell_type": "code",
      "execution_count": 45,
      "metadata": {
        "colab": {
          "base_uri": "https://localhost:8080/"
        },
        "id": "a4X59dlrVoO_",
        "outputId": "30d0f9b9-456f-4608-e0d4-ac9e84ecea0b"
      },
      "outputs": [
        {
          "name": "stdout",
          "output_type": "stream",
          "text": [
            "          a         b         c         d         e         f    g\n",
            "0  1.069516  1.400413  1.997478  1.927886  1.725930  8.121222  GT8\n",
            "1  1.944410  1.719137  1.179858  1.187821  1.679341  7.710567  LT8\n",
            "2  1.417708  1.572264  1.081854  1.541451  1.063310  6.676587  LT8\n",
            "3  1.516240  1.973696  1.228374  1.967646  1.769914  8.455870  GT8\n",
            "4  1.798522  1.780910  1.684072  1.506681  1.941394  8.711578  GT8\n",
            "\n",
            "\n",
            "Number of rows with LT8: 12\n",
            "\n",
            "\n",
            "\n",
            "Number of rows where the value in column 'g' is 'LT8': 12\n",
            "Standard deviation of column 'f' for 'LT8' rows: 0.6019188694831779\n",
            "Standard deviation of column 'f' for 'GT8' rows: 0.3315419174096786\n"
          ]
        }
      ],
      "source": [
        "# Adding a new column \"f\" which is the sum of columns \"a\", \"b\", \"c\", \"d\", \"e\"\n",
        "df['f'] = df[['a', 'b', 'c', 'd', 'e']].sum(axis=1)\n",
        "\n",
        "# Adding seventh column g\n",
        "df['g'] = np.where(df['f'] < 8, 'LT8', 'GT8')\n",
        "print(df.head())\n",
        "print('\\n')\n",
        "# Counting no. of rows with Less than 8 value\n",
        "count = len(df[df['g'] == 'LT8'])\n",
        "\n",
        "print(\"Number of rows with LT8:\",count)\n",
        "print('\\n')\n",
        "\n",
        "# Find the standard deviation of column \"f\" for \"LT8\" and \"GT8\" rows\n",
        "std_lt8 = df.loc[df['g'] == 'LT8', 'f'].std()\n",
        "std_gt8 = df.loc[df['g'] == 'GT8', 'f'].std()\n",
        "\n",
        "print(\"\\nNumber of rows where the value in column 'g' is 'LT8':\", count)\n",
        "print(\"Standard deviation of column 'f' for 'LT8' rows:\", std_lt8)\n",
        "print(\"Standard deviation of column 'f' for 'GT8' rows:\", std_gt8)"
      ]
    },
    {
      "cell_type": "markdown",
      "metadata": {
        "id": "zPCdqHBOcOcX"
      },
      "source": [
        "**Question 12**"
      ]
    },
    {
      "cell_type": "markdown",
      "metadata": {},
      "source": [
        "In this example, we have a 2x3 matrix and a scalar. The scalar is added to each element of the matrix using the + operator. Broadcasting automatically extends the scalar to a 2x3 matrix, allowing the addition operation to be performed element-wise."
      ]
    },
    {
      "cell_type": "code",
      "execution_count": 36,
      "metadata": {
        "colab": {
          "base_uri": "https://localhost:8080/"
        },
        "id": "55vhoWbwcUjP",
        "outputId": "0b1a5b6a-9f49-4c27-e710-3a3c2b87811e"
      },
      "outputs": [
        {
          "name": "stdout",
          "output_type": "stream",
          "text": [
            "Original Matrix:\n",
            "[[1 2 3]\n",
            " [4 5 6]]\n",
            "\n",
            "Scalar:\n",
            "10\n",
            "\n",
            "Result after Broadcasting:\n",
            "[[11 12 13]\n",
            " [14 15 16]]\n"
          ]
        }
      ],
      "source": [
        "import numpy as np\n",
        "\n",
        "# Create a 2x3 matrix\n",
        "matrix = np.array([[1, 2, 3],\n",
        "                   [4, 5, 6]])\n",
        "\n",
        "# Add a scalar to each element of the matrix\n",
        "scalar = 10\n",
        "\n",
        "# Broadcasting: NumPy automatically extends the scalar to a 2x3 matrix\n",
        "result = matrix + scalar\n",
        "\n",
        "# Display the original matrix, scalar, and the result\n",
        "print(\"Original Matrix:\")\n",
        "print(matrix)\n",
        "print(\"\\nScalar:\")\n",
        "print(scalar)\n",
        "print(\"\\nResult after Broadcasting:\")\n",
        "print(result)\n"
      ]
    },
    {
      "cell_type": "markdown",
      "metadata": {
        "id": "vDcOgbeYfhdJ"
      },
      "source": [
        "**Question 13**"
      ]
    },
    {
      "cell_type": "code",
      "execution_count": 46,
      "metadata": {
        "colab": {
          "base_uri": "https://localhost:8080/"
        },
        "id": "I10yHL9BfkSV",
        "outputId": "2fb55741-7482-463c-d600-ed39ec3f8272"
      },
      "outputs": [
        {
          "name": "stdout",
          "output_type": "stream",
          "text": [
            "Custom argmin result: 1\n",
            "np.argmin result: 1\n"
          ]
        }
      ],
      "source": [
        "import numpy as np\n",
        "\n",
        "def custom_argmin(arr):\n",
        "    # Check if the array is empty\n",
        "    if len(arr) == 0:\n",
        "        exit()\n",
        "\n",
        "    min_value = arr[0]\n",
        "    min_index = 0\n",
        "\n",
        "    for i, value in enumerate(arr):\n",
        "        if value < min_value:\n",
        "            min_value = value\n",
        "            min_index = i\n",
        "\n",
        "    return min_index\n",
        "\n",
        "# Example usage:\n",
        "arr = np.array([3, 1, 4, 1, 5, 9, 2, 6, 5, 3, 5])\n",
        "result = custom_argmin(arr)\n",
        "\n",
        "# Verify the result using np.argmin\n",
        "np_argmin_result = np.argmin(arr)\n",
        "\n",
        "# Display results\n",
        "print(\"Custom argmin result:\", result)\n",
        "print(\"np.argmin result:\", np_argmin_result)\n"
      ]
    }
  ],
  "metadata": {
    "colab": {
      "provenance": []
    },
    "kernelspec": {
      "display_name": "Python 3",
      "name": "python3"
    },
    "language_info": {
      "codemirror_mode": {
        "name": "ipython",
        "version": 3
      },
      "file_extension": ".py",
      "mimetype": "text/x-python",
      "name": "python",
      "nbconvert_exporter": "python",
      "pygments_lexer": "ipython3",
      "version": "3.11.5"
    }
  },
  "nbformat": 4,
  "nbformat_minor": 0
}
